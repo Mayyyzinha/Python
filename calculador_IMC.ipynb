{
 "cells": [
  {
   "cell_type": "markdown",
   "metadata": {},
   "source": [
    "Este programa vai me poupar o trabalho de calcular meu Coeficiente de Rendimento todo o semestre!"
   ]
  },
  {
   "cell_type": "code",
   "execution_count": 2,
   "metadata": {},
   "outputs": [
    {
     "name": "stdout",
     "output_type": "stream",
     "text": [
      "O seu coeficiente de rendimento é 8.28\n"
     ]
    }
   ],
   "source": [
    "qtd = int(input(\"Quantas disciplinas você puxou nesse período?\"))\n",
    "soma=0\n",
    "total_credito=0\n",
    "for i in range (1, qtd+1):\n",
    "    media=float(input(f\"Digite a {i}° média:\"))\n",
    "    credito=int(input(\"Digite o número de créditos:\"))\n",
    "    total_credito+=credito\n",
    "    soma+=media*credito\n",
    "cr= soma/total_credito\n",
    "print(\"O seu coeficiente de rendimento é {:.2f}\".format(cr))"
   ]
  }
 ],
 "metadata": {
  "kernelspec": {
   "display_name": "Python 3",
   "language": "python",
   "name": "python3"
  },
  "language_info": {
   "codemirror_mode": {
    "name": "ipython",
    "version": 3
   },
   "file_extension": ".py",
   "mimetype": "text/x-python",
   "name": "python",
   "nbconvert_exporter": "python",
   "pygments_lexer": "ipython3",
   "version": "3.12.0"
  }
 },
 "nbformat": 4,
 "nbformat_minor": 2
}
