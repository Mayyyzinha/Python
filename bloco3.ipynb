{
 "cells": [
  {
   "cell_type": "markdown",
   "metadata": {},
   "source": [
    "## Utilizando Módulos do Python"
   ]
  },
  {
   "cell_type": "markdown",
   "metadata": {},
   "source": [
    "### Módulos na prática"
   ]
  },
  {
   "cell_type": "code",
   "execution_count": 3,
   "metadata": {},
   "outputs": [
    {
     "name": "stdout",
     "output_type": "stream",
     "text": [
      "A raiz de 29 é 5.385164807134504\n"
     ]
    }
   ],
   "source": [
    "#extra\n",
    "import math \n",
    "num = int(input('Digite um número:'))\n",
    "raiz = math.sqrt(num)\n",
    "print('A raiz de {} é {}'.format(num,raiz))"
   ]
  },
  {
   "cell_type": "markdown",
   "metadata": {},
   "source": [
    "### Colocando Emojis"
   ]
  },
  {
   "cell_type": "code",
   "execution_count": 63,
   "metadata": {},
   "outputs": [
    {
     "name": "stdout",
     "output_type": "stream",
     "text": [
      "Oii, lindos! 🥰\n",
      "Preciso praiar 🏝️\n",
      "Hello, world 🌎\n"
     ]
    }
   ],
   "source": [
    "import emoji\n",
    "print(emoji.emojize('Oii, lindos! :smiling_face_with_hearts:'))\n",
    "print(emoji.emojize('Preciso praiar :desert_island:'))\n",
    "print(emoji.emojize(\"Hello, world :globe_showing_Americas:\"))"
   ]
  },
  {
   "cell_type": "markdown",
   "metadata": {},
   "source": [
    "Exercício Python 16: Crie um programa que leia um número Real qualquer pelo teclado e mostre na tela a sua porção Inteira."
   ]
  },
  {
   "cell_type": "code",
   "execution_count": 70,
   "metadata": {},
   "outputs": [
    {
     "name": "stdout",
     "output_type": "stream",
     "text": [
      "                 Separando o número inteiro do real                 \n",
      "O número real é 20.65421 e a sua parte inteira é 20\n"
     ]
    }
   ],
   "source": [
    "#Ex16\n",
    "\n",
    "#Contagem dos caracteres\n",
    "titulo = 'Separando o número inteiro do real' \n",
    "len(titulo)\n",
    "\n",
    "print('{: ^68}'.format(titulo))\n",
    "\n",
    "from math import trunc\n",
    "num = float(input(\"Digite um número:\"))\n",
    "print('O número real é {} e a sua parte inteira é {}' .format(num,trunc(num)))\n",
    "\n",
    "#Podia ter usado somente a função interna int\n"
   ]
  },
  {
   "cell_type": "markdown",
   "metadata": {},
   "source": [
    "Exercício Python 17: Faça um programa que leia o comprimento do cateto oposto e do cateto adjacente de um triângulo retângulo. Calcule e mostre o comprimento da hipotenusa."
   ]
  },
  {
   "cell_type": "code",
   "execution_count": 3,
   "metadata": {},
   "outputs": [
    {
     "name": "stdout",
     "output_type": "stream",
     "text": [
      "Seguindo o teorema de Pitágoras, o valor da hiponenusa deste triângulo é 5.0\n"
     ]
    }
   ],
   "source": [
    "#Ex17\n",
    "titulo = 'Calcudora de Hipotenusa - Triângulo Retângulo'\n",
    "len(titulo)\n",
    "('{: ^90}'.format(titulo))\n",
    "\n",
    "from math import hypot\n",
    "co = float(input(\"Insira o valor do cateto oposto:\"))\n",
    "ca = float(input(\"Insira o cateto adjacente:\"))\n",
    "hi = math.hypot(co,ca)\n",
    "print(\"Seguindo o teorema de Pitágoras, o valor da hiponenusa deste triângulo é {}\".format(hi))"
   ]
  },
  {
   "cell_type": "markdown",
   "metadata": {},
   "source": [
    "Exercício Python 18: Faça um programa que leia um ângulo qualquer e mostre na tela o valor do seno, cosseno e tangente desse ângulo."
   ]
  },
  {
   "cell_type": "code",
   "execution_count": 8,
   "metadata": {},
   "outputs": [
    {
     "name": "stdout",
     "output_type": "stream",
     "text": [
      "                   Calculadora de Seno, Cosseno e Tangente                    \n",
      "O seno correspondente do ângulo 60.0° é 0.87°\n",
      "O cosseno correspondente do ângulo 60.0° é 0.50°\n",
      "A tangente correspondente do ângulo 60.0° é 1.73°\n"
     ]
    }
   ],
   "source": [
    "#Ex18\n",
    "titulo = 'Calculadora de Seno, Cosseno e Tangente'\n",
    "len(titulo)\n",
    "\n",
    "print('{: ^78}'.format(titulo))\n",
    "\n",
    "import math\n",
    "ang = float(input('Insira o ângulo:'))\n",
    "\n",
    "sen = math.sin(math.radians(ang))\n",
    "cos = math.cos(math.radians(ang))\n",
    "tan = math.tan(math.radians(ang))\n",
    "\n",
    "print('O seno correspondente do ângulo {}° é {:.2f}°'.format(ang,sen))\n",
    "print('O cosseno correspondente do ângulo {}° é {:.2f}°'.format(ang,cos))\n",
    "print('A tangente correspondente do ângulo {}° é {:.2f}°'.format(ang,tan))"
   ]
  },
  {
   "cell_type": "markdown",
   "metadata": {},
   "source": [
    "Exercício Python 19: Um professor quer sortear um dos seus quatro alunos para apagar o quadro. Faça um programa que ajude ele, lendo o nome dos alunos e escrevendo na tela o nome do escolhido."
   ]
  },
  {
   "cell_type": "code",
   "execution_count": 1,
   "metadata": {},
   "outputs": [
    {
     "name": "stdout",
     "output_type": "stream",
     "text": [
      "===Sorteio====\n",
      "O aluno escolhido foi Mayara\n"
     ]
    }
   ],
   "source": [
    "#Ex19\n",
    "titulo = 'Sorteio'\n",
    "len(titulo)\n",
    "\n",
    "from random import choice\n",
    "print('{:=^14}'.format('Sorteio'))\n",
    "aluno1 = input(\"Primeiro aluno:\")\n",
    "aluno2 = input(\"Segundo aluno:\")\n",
    "aluno3 = input(\"Terceiro aluno:\")\n",
    "aluno4 = input(\"Quarto aluno:\")\n",
    "\n",
    "alunos = [aluno1, aluno2, aluno3, aluno4]\n",
    "escolhido = choice(alunos)\n",
    "\n",
    "print(\"O aluno escolhido foi {}\".format(escolhido))\n"
   ]
  },
  {
   "cell_type": "code",
   "execution_count": 23,
   "metadata": {},
   "outputs": [
    {
     "name": "stdout",
     "output_type": "stream",
     "text": [
      "Eu posso comer livremente hoje?\n",
      "sim\n"
     ]
    }
   ],
   "source": [
    "#extra \n",
    "from random import choice\n",
    "print(\"Eu posso comer livremente hoje?\")\n",
    "possibilidades = ['sim', 'não'] \n",
    "resposta= choice(possibilidades)\n",
    "print(resposta)"
   ]
  },
  {
   "cell_type": "markdown",
   "metadata": {},
   "source": [
    "Exercício Python 20: O mesmo professor do desafio 19 quer sortear a ordem de apresentação de trabalhos dos alunos. Faça um programa que leia o nome dos quatro alunos e mostre a ordem sorteada."
   ]
  },
  {
   "cell_type": "code",
   "execution_count": 24,
   "metadata": {},
   "outputs": [
    {
     "name": "stdout",
     "output_type": "stream",
     "text": [
      "================Ordem de apresentação de trabalho=================\n",
      "A ordem de apresentação será: ['Emanuelle', 'Gabriel', 'Gabriella', 'Mayara']\n"
     ]
    }
   ],
   "source": [
    "#Ex20\n",
    "titulo = 'Ordem de apresentação de trabalho'\n",
    "len(titulo)\n",
    "\n",
    "print('{:=^66}'.format(titulo))\n",
    "\n",
    "from random import shuffle\n",
    "aluno1= input(\"primeiro aluno:\")\n",
    "aluno2= input(\"Segundo aluno:\")\n",
    "aluno3 = input(\"Terceiro aluno:\")\n",
    "aluno4 = input(\"Quarto aluno:\")\n",
    "\n",
    "alunos = [aluno1, aluno2, aluno3, aluno4]\n",
    "shuffle(alunos) \n",
    "\n",
    "print('A ordem de apresentação será: {}'.format(alunos))\n",
    "\n",
    "#lembre-se que o método surffle não retorna a algum resultado. Ele embaralha a lista, por isso não atribui a nenhuma variável."
   ]
  },
  {
   "cell_type": "markdown",
   "metadata": {},
   "source": [
    "Exercício 21: Faça um programa em Python que abra e reproduza o áudio de um arquivo MP3."
   ]
  },
  {
   "cell_type": "code",
   "execution_count": 5,
   "metadata": {},
   "outputs": [
    {
     "name": "stdout",
     "output_type": "stream",
     "text": [
      "     Tocando MP3      \n"
     ]
    }
   ],
   "source": [
    "#Ex21\n",
    "\n",
    "titulo = 'Tocando MP3'\n",
    "len(titulo)\n",
    "\n",
    "print('{: ^22}'.format(titulo))\n",
    "\n",
    "import pygame\n",
    "pygame.init()\n",
    "pygame.mixer.music.load('rap do solitário.mp3')\n",
    "pygame.mixer.music.play()\n",
    "pygame.event.wait()\n",
    "\n",
    "\n"
   ]
  }
 ],
 "metadata": {
  "kernelspec": {
   "display_name": "Python 3",
   "language": "python",
   "name": "python3"
  },
  "language_info": {
   "codemirror_mode": {
    "name": "ipython",
    "version": 3
   },
   "file_extension": ".py",
   "mimetype": "text/x-python",
   "name": "python",
   "nbconvert_exporter": "python",
   "pygments_lexer": "ipython3",
   "version": "3.12.0"
  }
 },
 "nbformat": 4,
 "nbformat_minor": 2
}
