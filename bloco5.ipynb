{
 "cells": [
  {
   "cell_type": "markdown",
   "metadata": {},
   "source": [
    "## Condições em Python (if..else)"
   ]
  },
  {
   "cell_type": "markdown",
   "metadata": {},
   "source": [
    "### Condicionais"
   ]
  },
  {
   "cell_type": "markdown",
   "metadata": {},
   "source": [
    "Exercício Python 28: Escreva um programa que faça o computador “pensar” em um número inteiro entre 0 e 5 e peça para o usuário tentar descobrir qual foi o número escolhido pelo computador. O programa deverá escrever na tela se o usuário venceu ou perdeu."
   ]
  },
  {
   "cell_type": "code",
   "execution_count": 8,
   "metadata": {},
   "outputs": [
    {
     "name": "stdout",
     "output_type": "stream",
     "text": [
      "¨-¨-¨-¨-¨-¨-¨-¨-¨-¨-¨-¨-¨-¨-¨-¨-¨-¨-¨-¨-\n",
      "          JOGO DE ADIVINHAÇÃO          \n",
      "¨-¨-¨-¨-¨-¨-¨-¨-¨-¨-¨-¨-¨-¨-¨-¨-¨-¨-¨-¨-\n",
      "Modo de jogar: O computador vai escolher um número entre 0 e 5.\n",
      "Você, usuário, vai tentar acertar. Boa sorte!\n",
      "É o meu primeiro joguinho!\n",
      "PROCESSANDO...\n",
      "\n",
      "Parabéns! Eu escolhi 4 🥳\n"
     ]
    }
   ],
   "source": [
    "#Ex28\n",
    "\n",
    "from random import randint\n",
    "from time import sleep\n",
    "from emoji import emojize\n",
    "\n",
    "print('¨-'*20)\n",
    "titulo = 'JOGO DE ADIVINHAÇÃO'\n",
    "print('{: ^39}'.format(titulo))\n",
    "print('¨-'*20)\n",
    "print('''Modo de jogar: O computador vai escolher um número entre 0 e 5.\n",
    "Você, usuário, vai tentar acertar. Boa sorte!\n",
    "É o meu primeiro joguinho!''')\n",
    "\n",
    "num_pc = randint(0,5)\n",
    "num_usuario = int(input('Qual número você acha que o seu computador escolheu?'))\n",
    "print(\"PROCESSANDO...\")\n",
    "sleep(1.5)\n",
    "if num_pc == num_usuario:\n",
    "    print(emojize(\"\\nParabéns! Eu escolhi {} :partying_face:\".format(num_pc)))\n",
    "else:\n",
    "    print(emojize(\"\\nSinto muito. Eu escolhi {} :pensive_face:\".format(num_pc)))"
   ]
  },
  {
   "cell_type": "markdown",
   "metadata": {},
   "source": [
    "Exercício Python 29: Escreva um programa que leia a velocidade de um carro. Se ele ultrapassar 80Km/h, mostre uma mensagem dizendo que ele foi multado. A multa vai custar R$7,00 por cada Km acima do limite."
   ]
  },
  {
   "cell_type": "code",
   "execution_count": 11,
   "metadata": {},
   "outputs": [
    {
     "name": "stdout",
     "output_type": "stream",
     "text": [
      "Velocidade do carro:100.0KM 🚗\n",
      "Você foi MULTADO. Excedeu o limite de velocidade 80.0KM\n",
      "O valor da multa é de R$140.00\n",
      "Ande mais devagar da próxima vez!\n"
     ]
    }
   ],
   "source": [
    "#Ex29\n",
    "\n",
    "import emoji\n",
    "\n",
    "v = float(input(\"Insira a velocidade do respectivo carro:\"))\n",
    "multa = (v-80)*7\n",
    "\n",
    "print(emoji.emojize(\"Velocidade do carro:{}KM :automobile:\".format(v)))\n",
    "\n",
    "if v > 80:\n",
    "    print(\"Você foi MULTADO. Excedeu o limite de velocidade {}\".format('80.0KM'))\n",
    "    print(\"O valor da multa é de R${:.2f}\".format(multa))\n",
    "    print(\"Ande mais devagar da próxima vez!\")\n",
    "else:\n",
    "    print(\"Você não foi multado!\")\n",
    "    print(\"Continue assim!\") "
   ]
  },
  {
   "cell_type": "markdown",
   "metadata": {},
   "source": [
    "Exercício Python 30: Crie um programa que leia um número inteiro e mostre na tela se ele é PAR ou ÍMPAR."
   ]
  },
  {
   "cell_type": "code",
   "execution_count": 3,
   "metadata": {},
   "outputs": [
    {
     "name": "stdout",
     "output_type": "stream",
     "text": [
      "-------É PAR OU ÍMPAR?--------\n",
      "O número 10234 é par.\n"
     ]
    }
   ],
   "source": [
    "#Ex30\n",
    "\n",
    "titulo = \"É PAR OU ÍMPAR?\"\n",
    "print('{:-^30}'.format(titulo))\n",
    "\n",
    "num = int(input(\"digite o número:\"))\n",
    "\n",
    "if num % 2 == 0:\n",
    "    print('O número {} é par.'.format(num))\n",
    "else:\n",
    "    print('O número {} é ímpar.'.format(num))"
   ]
  },
  {
   "cell_type": "markdown",
   "metadata": {},
   "source": [
    "Exercício Python 31: Desenvolva um programa que pergunte a distância de uma viagem em Km. Calcule o preço da passagem, cobrando R$0,50 por Km para viagens de até 200Km e R$0,45 parta viagens mais longas."
   ]
  },
  {
   "cell_type": "code",
   "execution_count": 6,
   "metadata": {},
   "outputs": [
    {
     "name": "stdout",
     "output_type": "stream",
     "text": [
      "------------PASSAGEM------------\n",
      "Valor da passagem: R$225.00\n"
     ]
    }
   ],
   "source": [
    "#Ex31\n",
    "\n",
    "titulo = 'PASSAGEM'\n",
    "\n",
    "print('{:-^32}'.format(titulo))\n",
    "\n",
    "distancia = float(input(\"Informe a distância da viagem em kilômetros:\"))\n",
    "\n",
    "if distancia <= 200:\n",
    "    print('Valor da passagem: R${:.2f}'.format(0.50*distancia))\n",
    "else:\n",
    "    print('Valor da passagem: R${:.2f}'.format(0.45*distancia))\n"
   ]
  },
  {
   "cell_type": "markdown",
   "metadata": {},
   "source": [
    "Exercício Python 32: Faça um programa que leia um ano qualquer e mostre se ele é bissexto."
   ]
  },
  {
   "cell_type": "code",
   "execution_count": 6,
   "metadata": {},
   "outputs": [
    {
     "name": "stdout",
     "output_type": "stream",
     "text": [
      "------ É BISSEXTO?------\n",
      "O ano de 2024 é bissexto.\n"
     ]
    }
   ],
   "source": [
    "#Ex32\n",
    "\n",
    "from datetime import date\n",
    "titulo = ' É BISSEXTO?'\n",
    "len(titulo)\n",
    "\n",
    "print('{:-^24}'.format(titulo))\n",
    "\n",
    "ano = int(input(\"Insira o ano que quer analisar: Digite '0' caso seja o ano atual.\"))\n",
    "\n",
    "if ano == 0:\n",
    "    ano = date.today().year\n",
    "    \n",
    "if ano % 4 == 0 and ano % 100 != 0 or ano % 400 == 0:\n",
    "    print(\"O ano de {} é bissexto.\".format(ano))\n",
    "else:\n",
    "    print(\"O ano de {} não é bissexto.\".format(ano))"
   ]
  },
  {
   "cell_type": "markdown",
   "metadata": {},
   "source": [
    "Exercício Python 33: Faça um programa que leia três números e mostre qual é o maior e qual é o menor."
   ]
  },
  {
   "cell_type": "code",
   "execution_count": 9,
   "metadata": {},
   "outputs": [
    {
     "name": "stdout",
     "output_type": "stream",
     "text": [
      "Maior número = 46.0\n",
      "Menor número = 8.0\n"
     ]
    }
   ],
   "source": [
    "#Ex33\n",
    "#aqui tem considerar todas as combinações possíveis, um 3!\n",
    "\n",
    "a = float(input(\"Digite o primeiro número:\"))\n",
    "b = float(input(\"Digite o segundo número:\"))\n",
    "c = float(input(\"Digite o terceiro número:\"))\n",
    "\n",
    "if a > b and a > c:\n",
    "    maior = a\n",
    "elif b > a and b > c:\n",
    "    maior = b \n",
    "else:\n",
    "    maior = c\n",
    "\n",
    "if a < b and a < c:\n",
    "    menor = a \n",
    "elif b < a and b < c:\n",
    "    menor = b\n",
    "else:\n",
    "    menor = c \n",
    "\n",
    "print('Maior número = {}'.format(maior))\n",
    "print('Menor número = {}'.format(menor))\n",
    "\n"
   ]
  },
  {
   "cell_type": "markdown",
   "metadata": {},
   "source": [
    "Exercício Python 34: Escreva um programa que pergunte o salário de um funcionário e calcule o valor do seu aumento. Para salários superiores a R$1250,00, calcule um aumento de 10%. Para os inferiores ou iguais, o aumento é de 15%."
   ]
  },
  {
   "cell_type": "code",
   "execution_count": 4,
   "metadata": {},
   "outputs": [
    {
     "name": "stdout",
     "output_type": "stream",
     "text": [
      "--------SALÁRIO DOS FUNCIONÁRIOS--------\n",
      "Funcionário:Mayara Bertin Vacani Ervatti\n",
      "Salário inicial:R$5000.00\n",
      "Aumento de 10% = R$500.00\n",
      "Novo salário:R$5500.00\n"
     ]
    }
   ],
   "source": [
    "#Ex34\n",
    "\n",
    "titulo = 'SALÁRIO DOS FUNCIONÁRIOS'\n",
    "len(titulo)\n",
    "\n",
    "print('{:-^40}'.format(titulo))\n",
    "nome = input(\"Insira o nome completo do funcionário:\").strip()\n",
    "sal = float(input(\"Digite o salário:\"))\n",
    "\n",
    "if sal > 1250:\n",
    "    aumento = 0.10*sal\n",
    "    taxa = '10%'\n",
    "else: \n",
    "    aumento = 0.15*sal\n",
    "    taxa = '15%'\n",
    "\n",
    "novo_sal = sal + aumento\n",
    "\n",
    "print(\"Funcionário:{}\".format(nome))\n",
    "print(\"Salário inicial:R${:.2f}\".format(sal))\n",
    "print(\"Aumento de {} = R${:.2f}\".format(taxa,aumento))\n",
    "print(\"Novo salário:R${:.2f}\".format(novo_sal))"
   ]
  },
  {
   "cell_type": "markdown",
   "metadata": {},
   "source": [
    "Exercício Python 35: Desenvolva um programa que leia o comprimento de três retas e diga ao usuário se elas podem ou não formar um triângulo."
   ]
  },
  {
   "cell_type": "code",
   "execution_count": 8,
   "metadata": {},
   "outputs": [
    {
     "name": "stdout",
     "output_type": "stream",
     "text": [
      "--------------🔺QUAL O TIPO DE TRIÂNGULO?🔺---------------\n",
      "ESSAS MEDIDAS NÃO RESPEITAM A CONDIÇÃO DE EXISTÊNCIA DE UM TRIÂNGULO.\n"
     ]
    }
   ],
   "source": [
    "#Ex35\n",
    "\n",
    "from emoji import emojize\n",
    "titulo = emojize(\":red_triangle_pointed_up:QUAL O TIPO DE TRIÂNGULO?:red_triangle_pointed_up:\")\n",
    "print('{:-^56}'.format(titulo))\n",
    "\n",
    "a = float(input(\"Digite o valor da primeira reta:\"))\n",
    "b = float(input(\"Digite o valor da segunda reta:\"))\n",
    "c = float(input(\"Digite o valor da terceira reta:\"))\n",
    "\n",
    "if a < b + c and b < a + c and c < a + b:\n",
    "    if a != b != c:\n",
    "        print('Trata-se de um triângulo ESCALENO')\n",
    "    elif a == b == c:\n",
    "        print('Trata-se de um triângulo EQUILÁTERO')\n",
    "    else:\n",
    "        print('Trata-se de um triângulo ISÓSCELES')\n",
    "else: \n",
    "    print(\"ESSAS MEDIDAS NÃO RESPEITAM A CONDIÇÃO DE EXISTÊNCIA DE UM TRIÂNGULO.\")\n"
   ]
  },
  {
   "cell_type": "markdown",
   "metadata": {},
   "source": [
    "### Trabalhando com Cores"
   ]
  },
  {
   "cell_type": "code",
   "execution_count": 56,
   "metadata": {},
   "outputs": [
    {
     "name": "stdout",
     "output_type": "stream",
     "text": [
      "Isso é \u001b[1;32mcerto\u001b[m ou \u001b[1;31merrado\u001b[m?? 🤔\n"
     ]
    }
   ],
   "source": [
    "from emoji import emojize\n",
    "a = 'certo'\n",
    "b = 'errado'\n",
    "print(emojize(\"Isso é \\033[1;32m{}\\033[m ou \\033[1;31m{}\\033[m?? :thinking_face:\".format(a,b)))\n",
    "\n",
    "#também tem como fazer usando o format mas não vou colocar pois no meu terminal não funciona direito"
   ]
  },
  {
   "cell_type": "code",
   "execution_count": 67,
   "metadata": {},
   "outputs": [
    {
     "name": "stdout",
     "output_type": "stream",
     "text": [
      "Olá de novo, \u001b[35;46m Mayara\u001b[m!!!\n"
     ]
    }
   ],
   "source": [
    "nome = ' Mayara'\n",
    "cores = {'limpa':'\\033[m',\n",
    "         'majentaeciano':'\\033[35;46m'\n",
    "        }\n",
    "\n",
    "print(\"Olá de novo, {}{}{}!!!\".format(cores['majentaeciano'],nome,cores['limpa']))"
   ]
  }
 ],
 "metadata": {
  "kernelspec": {
   "display_name": "Python 3",
   "language": "python",
   "name": "python3"
  },
  "language_info": {
   "codemirror_mode": {
    "name": "ipython",
    "version": 3
   },
   "file_extension": ".py",
   "mimetype": "text/x-python",
   "name": "python",
   "nbconvert_exporter": "python",
   "pygments_lexer": "ipython3",
   "version": "3.12.0"
  }
 },
 "nbformat": 4,
 "nbformat_minor": 2
}
