{
 "cells": [
  {
   "cell_type": "markdown",
   "metadata": {},
   "source": [
    "## Estruturas de repetição For"
   ]
  },
  {
   "cell_type": "markdown",
   "metadata": {},
   "source": [
    "## Sumário\n",
    "***\n",
    "46. Contagem regressiva \n",
    "47. Contagem de números pares \n",
    "48. Soma nos múltiplos de três\n",
    "49. Tabuada otimizada\n",
    "50. Soma dos pares\n",
    "51. Progressão Aritmética\n",
    "52. Números primos\n",
    "53. Detector de palíndromo\n",
    "54. Maior e menor idade\n",
    "55. Maior e menor da sequência\n",
    "56. Analisador de dados \n",
    "***"
   ]
  },
  {
   "cell_type": "markdown",
   "metadata": {},
   "source": [
    "Exercício Python 46: Faça um programa que mostre na tela uma contagem regressiva para o estouro de fogos de artifício, indo de 10 até 0, com uma pausa de 1 segundo entre eles."
   ]
  },
  {
   "cell_type": "code",
   "execution_count": 4,
   "metadata": {},
   "outputs": [
    {
     "name": "stdout",
     "output_type": "stream",
     "text": [
      "CONTAGEM REGRESSIVA\n",
      "10 9 8 7 6 5 4 3 2 1 0 FELIZ ANO NOVO!!! 🎉 🎉 🎉\n"
     ]
    }
   ],
   "source": [
    "#Ex46\n",
    "from emoji import emojize\n",
    "from time import sleep\n",
    "\n",
    "print(\"CONTAGEM REGRESSIVA\")\n",
    "for i in range (10,-1,-1):\n",
    "    print(i, end=\" \")\n",
    "    sleep(1)\n",
    "print(emojize(\"FELIZ ANO NOVO!!! :party_popper: :party_popper: :party_popper:\"))"
   ]
  },
  {
   "cell_type": "markdown",
   "metadata": {},
   "source": [
    "Exercício Python 47: Crie um programa que mostre na tela todos os números pares que estão no intervalo entre 1 e 50."
   ]
  },
  {
   "cell_type": "code",
   "execution_count": 6,
   "metadata": {},
   "outputs": [
    {
     "name": "stdout",
     "output_type": "stream",
     "text": [
      "2 4 6 8 10 12 14 16 18 20 22 24 26 28 30 32 34 36 38 40 42 44 46 48 50 "
     ]
    }
   ],
   "source": [
    "#Ex47\n",
    "for num in range(1,51,1):\n",
    "    if num % 2==0:\n",
    "        print(num, end=\" \")"
   ]
  },
  {
   "cell_type": "markdown",
   "metadata": {},
   "source": [
    "Exercício Python 48: Faça um programa que calcule a soma entre todos os números que são múltiplos de três e que se encontram no intervalo de 1 até 500."
   ]
  },
  {
   "cell_type": "code",
   "execution_count": 16,
   "metadata": {},
   "outputs": [
    {
     "name": "stdout",
     "output_type": "stream",
     "text": [
      "Nesse intervalo há 166 valores, sendo sua soma 41583\n"
     ]
    }
   ],
   "source": [
    "#Ex48\n",
    "soma=0\n",
    "qtd=0\n",
    "for num in range (1,501,1):\n",
    "    if num % 3 == 0:\n",
    "        soma+=num\n",
    "        qtd+=1\n",
    "print(\"Nesse intervalo há {} valores, sendo sua soma {}\".format(qtd,soma))\n"
   ]
  },
  {
   "cell_type": "markdown",
   "metadata": {},
   "source": [
    "Exercício Python 49: Refaça o DESAFIO 9, mostrando a tabuada de um número que o usuário escolher, só que agora utilizando um laço for."
   ]
  },
  {
   "cell_type": "code",
   "execution_count": 24,
   "metadata": {},
   "outputs": [
    {
     "name": "stdout",
     "output_type": "stream",
     "text": [
      "=====TABUADA=====\n",
      "687 X  1 = 687\n",
      "687 X  2 = 1374\n",
      "687 X  3 = 2061\n",
      "687 X  4 = 2748\n",
      "687 X  5 = 3435\n",
      "687 X  6 = 4122\n",
      "687 X  7 = 4809\n",
      "687 X  8 = 5496\n",
      "687 X  9 = 6183\n",
      "687 X 10 = 6870\n"
     ]
    }
   ],
   "source": [
    "#Ex49\n",
    "\n",
    "print('=====TABUADA=====')\n",
    "num = int(input(\"Digite o número:\"))\n",
    "for i in range (1,11):\n",
    "    print('{} X {:2} = {}'.format(num,i,(num*i)))"
   ]
  },
  {
   "cell_type": "markdown",
   "metadata": {},
   "source": [
    "Exercício Python 50: Desenvolva um programa que leia seis números inteiros e mostre a soma apenas daqueles que forem pares. Se o valor digitado for ímpar, desconsidere-o."
   ]
  },
  {
   "cell_type": "code",
   "execution_count": 2,
   "metadata": {},
   "outputs": [
    {
     "name": "stdout",
     "output_type": "stream",
     "text": [
      "Foram inseridos 3 números pares, sendo sua soma 12\n"
     ]
    }
   ],
   "source": [
    "#Ex50\n",
    "soma=0\n",
    "qtd=0\n",
    "for i in range (1,7):\n",
    "    num = int(input(\"Digite o {}° número:\".format(i)))\n",
    "    if num % 2 == 0:\n",
    "       qtd+=1\n",
    "       soma+=num\n",
    "print(\"Foram inseridos {} números pares, sendo sua soma {}\".format(qtd,soma))"
   ]
  },
  {
   "cell_type": "markdown",
   "metadata": {},
   "source": [
    "Exercício Python 51: Desenvolva um programa que leia o primeiro termo e a razão de uma PA. No final, mostre os 10 primeiros termos dessa progressão."
   ]
  },
  {
   "cell_type": "code",
   "execution_count": 16,
   "metadata": {},
   "outputs": [
    {
     "name": "stdout",
     "output_type": "stream",
     "text": [
      "10 PRIMEIROS TERMOS DA P.A\n",
      "2🔵4🔵6🔵8🔵10🔵12🔵14🔵16🔵18🔵20🔵"
     ]
    }
   ],
   "source": [
    "#Ex51\n",
    "print(\"10 PRIMEIROS TERMOS DA P.A\")\n",
    "from emoji import emojize\n",
    "termo=int(input(\"Digite o primeiro termo:\"))\n",
    "razão=int(input(\"Digite a razão:\"))\n",
    "for n in range (1,11):\n",
    "    pa= termo + (n-1)*razão\n",
    "    print(pa, end = emojize(\":blue_circle:\"))"
   ]
  },
  {
   "cell_type": "markdown",
   "metadata": {},
   "source": [
    "Exercício Python 52: Faça um programa que leia um número inteiro e diga se ele é ou não um número primo."
   ]
  },
  {
   "cell_type": "code",
   "execution_count": 34,
   "metadata": {},
   "outputs": [
    {
     "name": "stdout",
     "output_type": "stream",
     "text": [
      "É PRIMO?\n",
      "Múltiplos de 20:\n",
      "\u001b[32m 1 \u001b[32m 2 \u001b[31m 3 \u001b[32m 4 \u001b[32m 5 \u001b[31m 6 \u001b[31m 7 \u001b[31m 8 \u001b[31m 9 \u001b[32m 10 \u001b[31m 11 \u001b[31m 12 \u001b[31m 13 \u001b[31m 14 \u001b[31m 15 \u001b[31m 16 \u001b[31m 17 \u001b[31m 18 \u001b[31m 19 \u001b[32m 20 \u001b[37mNÃO É PRIMO!\n"
     ]
    }
   ],
   "source": [
    "#Ex53\n",
    "qtd=0\n",
    "print('É PRIMO?')\n",
    "num= int(input(\"Digite um número:\"))\n",
    "print(\"Múltiplos de {}:\".format(num))\n",
    "for i in range(1,num+1):\n",
    "    if num % i == 0:\n",
    "        print('\\033[32m',i, end=\" \")\n",
    "        qtd+=1\n",
    "    else:\n",
    "        print('\\033[31m',i, end=\" \")\n",
    "if qtd <= 2:\n",
    "    print(\"\\033[37mÉ PRIMO!\")\n",
    "else:\n",
    "    print(\"\\033[37mNÃO É PRIMO!\")"
   ]
  },
  {
   "cell_type": "markdown",
   "metadata": {},
   "source": [
    "Exercício Python 53: Crie um programa que leia uma frase qualquer e diga se ela é um palíndromo, desconsiderando os espaços. Exemplos de palíndromos:\n",
    "\n",
    "APOS A SOPA, A SACADA DA CASA, A TORRE DA DERROTA, O LOBO AMA O BOLO, ANOTARAM A DATA DA MARATONA."
   ]
  },
  {
   "cell_type": "code",
   "execution_count": 59,
   "metadata": {},
   "outputs": [
    {
     "name": "stdout",
     "output_type": "stream",
     "text": [
      "O inverso de TOMARASOPA é APOSARAMOT\n",
      "Não é um palíndromo\n"
     ]
    }
   ],
   "source": [
    "#Ex53\n",
    "inverso= \"\"\n",
    "frase = str(input(\"Digite a frase: [SEM ACENTOS]\")).strip().upper()\n",
    "separando=frase.split()\n",
    "juntando=''.join(separando)\n",
    "for letra in range (len(juntando)-1,-1,-1):\n",
    "    inverso+=(juntando[letra])\n",
    "print(\"O inverso de {} é {}\".format(juntando, inverso))\n",
    "if juntando == inverso:\n",
    "    print(\"É um palíndromo\")\n",
    "else:\n",
    "    print(\"Não é um palíndromo\")        \n",
    "\n"
   ]
  },
  {
   "cell_type": "markdown",
   "metadata": {},
   "source": [
    "Exercício Python 54: Crie um programa que leia o ano de nascimento de sete pessoas. No final, mostre quantas pessoas ainda não atingiram a maioridade e quantas já são maiores."
   ]
  },
  {
   "cell_type": "code",
   "execution_count": 37,
   "metadata": {},
   "outputs": [
    {
     "name": "stdout",
     "output_type": "stream",
     "text": [
      "Dentre as idades inseridas, 5 são de maior e 2 são de menor.\n"
     ]
    }
   ],
   "source": [
    "#Ex54\n",
    "maior_idade=0\n",
    "menor_idade=0\n",
    "from datetime import date\n",
    "for i in range (1,8):\n",
    "    ano_nasc=int(input(f\"Qual o ano de nascimento da {i}° pessoa?\"))\n",
    "    idade= date.today().year - ano_nasc\n",
    "    if idade >= 18:\n",
    "        maior_idade+=1\n",
    "    else:\n",
    "        menor_idade+=1\n",
    "print(f\"Dentre as idades inseridas, {maior_idade} são de maior e {menor_idade} são de menor.\")"
   ]
  },
  {
   "cell_type": "markdown",
   "metadata": {},
   "source": [
    "Exercício Python 55: Faça um programa que leia o peso de cinco pessoas. No final, mostre qual foi o maior e o menor peso lidos."
   ]
  },
  {
   "cell_type": "code",
   "execution_count": 39,
   "metadata": {},
   "outputs": [
    {
     "name": "stdout",
     "output_type": "stream",
     "text": [
      "O maior peso é de 400.0Kg\n",
      "O menor peso é de 20.0Kg\n"
     ]
    }
   ],
   "source": [
    "#Ex55\n",
    "maior_peso=0\n",
    "menor_peso=0\n",
    "for i in range (1,6):\n",
    "    peso = float(input(f\"Digite o peso da {i}° pessoa:\"))\n",
    "    if i==1:\n",
    "        maior_peso=peso\n",
    "        menor_peso=peso\n",
    "    elif peso > maior_peso:\n",
    "        maior_peso=peso\n",
    "    elif peso < menor_peso:\n",
    "        menor_peso=peso\n",
    "print(\"O maior peso é de {}Kg\\nO menor peso é de {}Kg\".format(maior_peso,menor_peso))"
   ]
  },
  {
   "cell_type": "markdown",
   "metadata": {},
   "source": [
    "Exercício Python 56: Desenvolva um programa que leia o nome, idade e sexo de 4 pessoas. No final do programa, mostre: a média de idade do grupo, qual é o nome do homem mais velho e quantas mulheres têm menos de 20 anos."
   ]
  },
  {
   "cell_type": "code",
   "execution_count": 4,
   "metadata": {},
   "outputs": [
    {
     "name": "stdout",
     "output_type": "stream",
     "text": [
      "¨¨¨¨¨¨¨¨¨¨DADOS DA 1° PESSOA¨¨¨¨¨¨¨¨¨¨\n",
      "Mayara Bertin Vacani Ervatti \n",
      " 19 \n",
      " f \n",
      "\n",
      "¨¨¨¨¨¨¨¨¨¨DADOS DA 2° PESSOA¨¨¨¨¨¨¨¨¨¨\n",
      "Jubileu De Sousa  \n",
      " 80 \n",
      " m \n",
      "\n",
      "¨¨¨¨¨¨¨¨¨¨DADOS DA 3° PESSOA¨¨¨¨¨¨¨¨¨¨\n",
      "Josefa Campos \n",
      " 45 \n",
      " f \n",
      "\n",
      "¨¨¨¨¨¨¨¨¨¨DADOS DA 4° PESSOA¨¨¨¨¨¨¨¨¨¨\n",
      "Alfredo Borges \n",
      " 16 \n",
      " m \n",
      "\n",
      "Processando...\n",
      "A média de idade do grupo é 40.0 anos\n",
      "O homem mais velho se chama Jubileu De Sousa , com 80 anos.\n",
      "Há 1 mulheres com menos de 20 anos.\n"
     ]
    }
   ],
   "source": [
    "#Ex56\n",
    "from time import sleep\n",
    "soma_idade=0\n",
    "idade_mais_velho=0\n",
    "nome_mais_velho=\"\"\n",
    "qtd_menos20=0\n",
    "for i in range(1,5):\n",
    "    print('{:¨^38}'.format(\"DADOS DA {}° PESSOA\".format(i)))\n",
    "    nome = str(input(\"Nome:\")).title()\n",
    "    idade = int(input(\"Idade:\"))\n",
    "    sexo = str(input(\"Sexo:[M/F]\"))\n",
    "    print(nome,'\\n',idade,'\\n',sexo,'\\n')\n",
    "    soma_idade+= idade\n",
    "    if i == 1 and sexo in \"Mm\":\n",
    "        idade_mais_velho=idade\n",
    "        nome_mais_velho=nome\n",
    "    elif idade > idade_mais_velho and sexo in \"Mm\":\n",
    "        idade_mais_velho=idade\n",
    "        nome_mais_velho=nome\n",
    "    if idade < 20 and sexo in \"Ff\":\n",
    "        qtd_menos20+=1\n",
    "media = soma_idade/4\n",
    "print(\"Processando...\")\n",
    "sleep(1.5)\n",
    "print(\"A média de idade do grupo é {} anos\".format(media))\n",
    "print(\"O homem mais velho se chama {}, com {} anos.\".format(nome_mais_velho,idade_mais_velho))\n",
    "print(\"Há {} mulheres com menos de 20 anos.\".format(qtd_menos20))"
   ]
  }
 ],
 "metadata": {
  "kernelspec": {
   "display_name": "Python 3",
   "language": "python",
   "name": "python3"
  },
  "language_info": {
   "codemirror_mode": {
    "name": "ipython",
    "version": 3
   },
   "file_extension": ".py",
   "mimetype": "text/x-python",
   "name": "python",
   "nbconvert_exporter": "python",
   "pygments_lexer": "ipython3",
   "version": "3.12.0"
  }
 },
 "nbformat": 4,
 "nbformat_minor": 2
}
