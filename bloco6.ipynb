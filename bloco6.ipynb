{
 "cells": [
  {
   "cell_type": "markdown",
   "metadata": {},
   "source": [
    "## Condições Aninhadas"
   ]
  },
  {
   "cell_type": "markdown",
   "metadata": {},
   "source": [
    "## Sumário \n",
    "***\n",
    "36. Verificando a aprovação de um empréstimo bancário\n",
    "37. Conversor de base decimal \n",
    "38. Verificando menor e maior valor \n",
    "39. Verificando período de alistamento militar \n",
    "40. Calculando a média de um aluno \n",
    "41. Verificando a categoria do atleta para natação\n",
    "42. Condição de existência do triângulo (fiz no 35) \n",
    "43. Calculando o IMC\n",
    "44. Simulador de loja \n",
    "45. Joguinho Jokeipô \n",
    "***"
   ]
  },
  {
   "cell_type": "markdown",
   "metadata": {},
   "source": [
    "Exercício Python 36: Escreva um programa para aprovar o empréstimo bancário para a compra de uma casa. Pergunte o valor da casa, o salário do comprador e em quantos anos ele vai pagar. A prestação mensal não pode exceder 30% do salário ou então o empréstimo será negado."
   ]
  },
  {
   "cell_type": "code",
   "execution_count": 3,
   "metadata": {},
   "outputs": [
    {
     "data": {
      "text/markdown": [
       "<span style=\"color:#87cefa; font-weight:bold\">💰CONSULTA DE LIBERAÇÃO DE EMPRÉSTIMO BANCÁRIO💰</span>"
      ],
      "text/plain": [
       "<IPython.core.display.Markdown object>"
      ]
     },
     "metadata": {},
     "output_type": "display_data"
    },
    {
     "data": {
      "text/markdown": [
       "<span style =\"color:green\">**O empréstimo foi liberado!**</span> O valor será dividido em prestações de R$2000.00 para 5 anos.<p style= \"color:orange\">ATENÇÃO!</p>Caso haja atrasos, serão cobrados na parcela:<br><ul><li>Juros de mora de 1% ao mês</li><br><li>Multa de 2% ao mês</li></ul><br>Totalizando R$3800.00"
      ],
      "text/plain": [
       "<IPython.core.display.Markdown object>"
      ]
     },
     "metadata": {},
     "output_type": "display_data"
    }
   ],
   "source": [
    "#Ex36\n",
    "\n",
    "from IPython.display import Markdown,display\n",
    "from emoji import emojize\n",
    "\n",
    "titulo = emojize(':money_bag:CONSULTA DE LIBERAÇÃO DE EMPRÉSTIMO BANCÁRIO:money_bag:')\n",
    "titulo_formatado = f'<span style=\"color:#87cefa; font-weight:bold\">{titulo}</span>'\n",
    "display(Markdown(titulo_formatado))\n",
    "\n",
    "casa = float(input(\"Qual o valor da casa?R$\"))\n",
    "sal = float(input(\"Qual o valor do seu salário?R$\"))\n",
    "tempo = int(input(\"Quantos anos de financiamento?\"))\n",
    "\n",
    "prestação = casa/ (tempo * 12)\n",
    "juros_mora = prestação * 0.01 * 30\n",
    "juros_multa = prestação *0.02 * 30\n",
    "juros_total = juros_mora + juros_multa \n",
    "\n",
    "if prestação > 0.30*sal:\n",
    "    mensagem = '<span style=\"color:red\">**O empréstimo não foi liberado!**</span> O valor das prestações excede 30% do seu salário.'.format(prestação, tempo)\n",
    "    display(Markdown(mensagem))\n",
    "else:\n",
    "       mensagem = '<span style =\"color:green\">**O empréstimo foi liberado!**</span> O valor será dividido em prestações de R${:.2f} para {} anos.<p style= \"color:orange\">ATENÇÃO!</p>Caso haja atrasos, serão cobrados na parcela:<br><ul><li>Juros de mora de 1% ao mês</li><br><li>Multa de 2% ao mês</li></ul><br>Totalizando R${:.2f}'.format(prestação,tempo,prestação + juros_total)\n",
    "       display(Markdown(mensagem))"
   ]
  },
  {
   "cell_type": "markdown",
   "metadata": {},
   "source": [
    "Exercício Python 37: Escreva um programa em Python que leia um número inteiro qualquer e peça para o usuário escolher qual será a base de conversão: 1 para binário, 2 para octal e 3 para hexadecimal."
   ]
  },
  {
   "cell_type": "code",
   "execution_count": 12,
   "metadata": {},
   "outputs": [
    {
     "name": "stdout",
     "output_type": "stream",
     "text": [
      "Opção inválida. Tente novamente!\n"
     ]
    }
   ],
   "source": [
    "#Ex37\n",
    "\n",
    "titulo = \"CONVERSOR DE BASES DECIMAIS\"\n",
    "\n",
    "num = int(input(\"Digite o número:\"))\n",
    "base = int(input('''Escolha uma das bases abaixo:\n",
    "[1] BINÁRIO\n",
    "[2] OCTAL \n",
    "[3] HEXADECIMAL'''))\n",
    "\n",
    "if base == 1:\n",
    "    print('{} convertido para BINÁRIO é igual a {}'.format(num,bin(num)[2:]))\n",
    "elif base == 2:\n",
    "    print('{} convertido para OCTAL é igual a {}'.format(num,oct(num)[2:]))\n",
    "elif base == 3:\n",
    "    print('{} convertido para OCTAL é igual a {}'.format(num,hex(num)[2:]))\n",
    "else:\n",
    "    print('Opção inválida. Tente novamente!')\n",
    "    "
   ]
  },
  {
   "cell_type": "markdown",
   "metadata": {},
   "source": [
    "Exercício Python 038: Escreva um programa que leia dois números inteiros e compare-os. mostrando na tela uma mensagem:\n",
    "\n",
    "– O primeiro valor é maior\n",
    "\n",
    "– O segundo valor é maior\n",
    "\n",
    "– Não existe valor maior, os dois são iguais"
   ]
  },
  {
   "cell_type": "code",
   "execution_count": 9,
   "metadata": {},
   "outputs": [
    {
     "name": "stdout",
     "output_type": "stream",
     "text": [
      "Os números são iguais\n"
     ]
    }
   ],
   "source": [
    "#Ex38\n",
    "\n",
    "num1 = float(input(\"Digite o primeiro número:\"))\n",
    "num2 = float(input(\"Digite o segundo número:\"))\n",
    "\n",
    "if num1 > num2 :\n",
    "    print('O número {} é maior que o número {}'.format(num1, num2))\n",
    "elif num1 < num2:\n",
    "     print('O número {} é maior que o número {}'.format(num2, num1))\n",
    "else:\n",
    "      print('Os números são iguais')"
   ]
  },
  {
   "cell_type": "markdown",
   "metadata": {},
   "source": [
    "Exercício Python 39: Faça um programa que leia o ano de nascimento de um jovem e informe, de acordo com a sua idade, se ele ainda vai se alistar ao serviço militar, se é a hora exata de se alistar ou se já passou do tempo do alistamento. Seu programa também deverá mostrar o tempo que falta ou que passou do prazo."
   ]
  },
  {
   "cell_type": "code",
   "execution_count": 3,
   "metadata": {},
   "outputs": [
    {
     "data": {
      "text/markdown": [
       "<span style = \"color:#006400;font-weight:bold\">🏴‍☠️ALISTAMENTO MILITAR 🇧🇷</span>"
      ],
      "text/plain": [
       "<IPython.core.display.Markdown object>"
      ]
     },
     "metadata": {},
     "output_type": "display_data"
    },
    {
     "name": "stdout",
     "output_type": "stream",
     "text": [
      "O alistamento obrigatório é para homens. Você não precisa se alistar.\n"
     ]
    }
   ],
   "source": [
    "#Ex39\n",
    "from emoji import emojize\n",
    "from IPython.display import display, Markdown\n",
    "from datetime import date\n",
    "\n",
    "titulo = emojize(':pirate_flag:ALISTAMENTO MILITAR 🇧🇷')\n",
    "titulo_formatado = f'<span style = \"color:#006400;font-weight:bold\">{titulo}</span>'\n",
    "display(Markdown(titulo_formatado))\n",
    "\n",
    "sexo = input(\"Qual o seu sexo: (feminino ou masculino)\").lower().strip()\n",
    "\n",
    "if sexo == 'feminino':\n",
    "    print(\"O alistamento obrigatório é para homens. Você não precisa se alistar.\")\n",
    "elif sexo == 'masculino':\n",
    "    ano_nasc = int(input(\"Digite o ano em que você nasceu:\"))\n",
    "    ano_atual = date.today().year\n",
    "    idade = ano_atual - ano_nasc\n",
    "\n",
    "    if idade >=18 and idade <=23:\n",
    "        print(\"Parabéns! Chegou o seu ano de se alistar.\")\n",
    "    elif idade < 18:\n",
    "        print(\"Seu alistamento será daqui a {} ano(s)\".format(18 - idade))\n",
    "    else:\n",
    "        print(\"Que pena! Seu prazo de alistamento expirou há {} ano(s)\".format(idade - 23))\n",
    "else:\n",
    "    print(\"Sexo inválido. Tente novamente.\")\n",
    "\n"
   ]
  },
  {
   "cell_type": "markdown",
   "metadata": {},
   "source": [
    "Exercício Python 040: Crie um programa que leia duas notas de um aluno e calcule sua média, mostrando uma mensagem no final, de acordo com a média atingida:\n",
    "\n",
    "– Média abaixo de 5.0: REPROVADO\n",
    "\n",
    "– Média entre 5.0 e 6.9: RECUPERAÇÃO\n",
    "\n",
    "– Média 7.0 ou superior: APROVADO"
   ]
  },
  {
   "cell_type": "code",
   "execution_count": 4,
   "metadata": {},
   "outputs": [
    {
     "data": {
      "text/markdown": [
       "Aluno:Mayara Bertin Vacani Ervatti<br>Média: 9.8<br>Situação: <span style=\"color:green; font-weight:bold\">APROVADO</span>"
      ],
      "text/plain": [
       "<IPython.core.display.Markdown object>"
      ]
     },
     "metadata": {},
     "output_type": "display_data"
    }
   ],
   "source": [
    "#Ex40\n",
    "\n",
    "from IPython.display import display, Markdown\n",
    "aluno = input(\"Insira o nome completo do aluno:\").title()\n",
    "nota1 = float(input(\"Insira a primeira nota:\"))\n",
    "nota2 = float(input(\"Insira a segunda nota:\"))\n",
    "\n",
    "media = (nota1 + nota2)/2\n",
    "\n",
    "if media < 5 :\n",
    "    mensagem = 'Aluno: {}<br>Média: {:.1f}<br>Situação: <span style = \"color:red; font-weight:bold\">REPROVADO</span>'.format(aluno,media)\n",
    "elif 5 <= media and 6.9 >= media :\n",
    "    mensagem = 'Aluno:{}<br>Média: {:.1f}<br>Situação: <span style= \"color:orange; font-weight:bold\">EM RECUPERAÇÃO</span>'.format(aluno,media)\n",
    "else:\n",
    "     mensagem = 'Aluno:{}<br>Média: {:.1f}<br>Situação: <span style=\"color:green; font-weight:bold\">APROVADO</span>'.format(aluno,media)\n",
    "\n",
    "display(Markdown(mensagem))"
   ]
  },
  {
   "cell_type": "markdown",
   "metadata": {},
   "source": [
    "Exercício Python 041: A Confederação Nacional de Natação precisa de um programa que leia o ano de nascimento de um atleta e mostre sua categoria, de acordo com a idade:\n",
    "\n",
    "– Até 9 anos: MIRIM\n",
    "\n",
    "– Até 14 anos: INFANTIL\n",
    "\n",
    "– Até 19 anos: JÚNIOR\n",
    "\n",
    "– Até 25 anos: SÊNIOR\n",
    "\n",
    "– Acima de 25 anos: MASTER"
   ]
  },
  {
   "cell_type": "code",
   "execution_count": 8,
   "metadata": {},
   "outputs": [
    {
     "data": {
      "text/markdown": [
       "<span style = \"color:#87cefa; font-weight:bold\"> FORMULÁRIO - CONFEDERAÇÃO NACIONAL DE NATAÇÃO</span>"
      ],
      "text/plain": [
       "<IPython.core.display.Markdown object>"
      ]
     },
     "metadata": {},
     "output_type": "display_data"
    },
    {
     "name": "stdout",
     "output_type": "stream",
     "text": [
      "Sua categoria é MASTER\n"
     ]
    }
   ],
   "source": [
    "#Ex41\n",
    "from emoji import emojize \n",
    "from IPython.display import display, Markdown\n",
    "from datetime import date\n",
    "\n",
    "titulo = ' FORMULÁRIO - CONFEDERAÇÃO NACIONAL DE NATAÇÃO'\n",
    "titulo_formatado = f'<span style = \"color:#87cefa; font-weight:bold\">{titulo}</span>'\n",
    "display(Markdown(titulo_formatado))\n",
    "\n",
    "nome = input(\"Qual é o seu nome?\")\n",
    "ano_nasc = int(input(\"Qual o seu ano de nascimento?\"))\n",
    "\n",
    "idade = date.today().year - ano_nasc\n",
    "\n",
    "categoria = ['MIRIM','INFANTIL','JUNIOR','SÊNIOR','MASTER']\n",
    "if idade <= 9:\n",
    "    print(f\"Sua categoria é {categoria[0]}\")\n",
    "elif idade <= 14:\n",
    "    print(f\"Sua categoria é {categoria[1]}\")\n",
    "elif idade <= 19:\n",
    "    print(f\"Sua categoria é {categoria[2]}\")\n",
    "elif idade <= 20:\n",
    "    print(f\"Sua categoria é {categoria[3]}\")\n",
    "else: \n",
    "    print(f\"Sua categoria é {categoria[4]}\")"
   ]
  },
  {
   "cell_type": "markdown",
   "metadata": {},
   "source": [
    "Exercício Python 43: Desenvolva uma lógica que leia o peso e a altura de uma pessoa, calcule seu Índice de Massa Corporal (IMC) e mostre seu status, de acordo com a tabela abaixo:\n",
    "\n",
    "– IMC abaixo de 18,5: Abaixo do Peso\n",
    "\n",
    "– Entre 18,5 e 25: Peso Ideal\n",
    "\n",
    "– 25 até 30: Sobrepeso\n",
    "\n",
    "– 30 até 40: Obesidade\n",
    "\n",
    "– Acima de 40: Obesidade Mórbida"
   ]
  },
  {
   "cell_type": "code",
   "execution_count": 20,
   "metadata": {},
   "outputs": [
    {
     "name": "stdout",
     "output_type": "stream",
     "text": [
      "\u001b[1mCALCULADORA DE ÍNDICE DE MASSA CORPORAL (IMC)\n",
      "Seu IMC é 27.4km/m2\n"
     ]
    },
    {
     "data": {
      "text/markdown": [
       "Classificação: <span style=\"color:yellow;font-weight:bold\">Sobrepeso</span>"
      ],
      "text/plain": [
       "<IPython.core.display.Markdown object>"
      ]
     },
     "metadata": {},
     "output_type": "display_data"
    }
   ],
   "source": [
    "#Ex43\n",
    "from IPython.display import display, Markdown\n",
    "\n",
    "print(\"\\033[1mCALCULADORA DE ÍNDICE DE MASSA CORPORAL (IMC)\")\n",
    "\n",
    "peso = float(input(\"Digite aqui o seu peso em QUILOGRAMAS:\"))\n",
    "altura = float(input(\"Digite aqui a sua altura em METROS:\"))\n",
    "\n",
    "calculo_imc = peso/(altura**2)\n",
    "classificação = ['Magreza','Normal','Sobrepeso','Obesidade grau I','Obesidade grau II','Obesidade grau III']\n",
    "\n",
    "print('Seu IMC é {:.1f}km/m2'.format(calculo_imc)) \n",
    "\n",
    "if calculo_imc < 18.5:\n",
    "    mensagem = 'Classificação: <span style=\"color:red;font-weight:bold\">Magreza</span>'\n",
    "elif calculo_imc <= 24.9:\n",
    "      mensagem = 'Classificação: <span style=\"color:green;font-weight:bold\">Normal</span>'\n",
    "elif calculo_imc <= 29.9:\n",
    "       mensagem = 'Classificação: <span style=\"color:yellow;font-weight:bold\">Sobrepeso</span>'\n",
    "elif calculo_imc <= 34.9:\n",
    "        mensagem = 'Classificação: <span style=\"color:red;font-weight:bold\">Obesidade grau I</span>'\n",
    "elif calculo_imc <= 39.9:\n",
    "        mensagem = 'Classificação: <span style=\"color:red;font-weight:bold\">Obesidade grau II</span>'\n",
    "else:\n",
    "         mensagem = 'Classificação:<span style=\"color:red;font-weight:bold\">Obesidade grau III</span>'\n",
    "\n",
    "display(Markdown(mensagem))\n",
    "\n",
    "#Uma maneira mais simples seria usar esses códigos mas como o terminal do VS Code é meio enjoado, vou deixar o Markdown\n",
    "#print('\\033[1;33m Sobrepeso')\n",
    "#print('\\033[1;31m Obesidade')\n",
    "#print('\\033[1;32m Normal')"
   ]
  },
  {
   "cell_type": "markdown",
   "metadata": {},
   "source": [
    "Exercício Python 44: Elabore um programa que calcule o valor a ser pago por um produto, considerando o seu preço normal e condição de pagamento:\n",
    "\n",
    "– à vista dinheiro/cheque: 10% de desconto\n",
    "\n",
    "– à vista no cartão: 5% de desconto\n",
    "\n",
    "– em até 2x no cartão: preço formal \n",
    "\n",
    "– 3x ou mais no cartão: 20% de juros"
   ]
  },
  {
   "cell_type": "code",
   "execution_count": 10,
   "metadata": {},
   "outputs": [
    {
     "data": {
      "text/markdown": [
       "<span style=\"color:pink; font-weight:bold\">🛍️URBAMGLAM🛍️</span>"
      ],
      "text/plain": [
       "<IPython.core.display.Markdown object>"
      ]
     },
     "metadata": {},
     "output_type": "display_data"
    },
    {
     "name": "stdout",
     "output_type": "stream",
     "text": [
      "Formas de pagamento:\n",
      "[1] á vista dinheiro/cheque\n",
      "[2] á vista no cartão\n",
      "[3] 2x no cartão\n",
      "[4] 3x ou mais no cartão\n",
      "\n",
      "Você ganhou frete grátis para sua próxima compra pelo site! Use o cupom exclusivo: UB3336 e aproveite!\n",
      "\n",
      "Devido as parcelas, você recebeu um total de 20% de juros sob o valor do produto.\n",
      "Valor final = 1200.00 ou seja, 4 X R$300.00 \n"
     ]
    }
   ],
   "source": [
    "#EX44\n",
    "\n",
    "from emoji import emojize\n",
    "from IPython.display import display, Markdown\n",
    "from random import randint\n",
    "\n",
    "titulo = emojize(\":shopping_bags:URBAMGLAM:shopping_bags:\")\n",
    "titulo_formatado= f'<span style=\"color:pink; font-weight:bold\">{titulo}</span>'\n",
    "display(Markdown(titulo_formatado))\n",
    "\n",
    "print('''Formas de pagamento:\n",
    "[1] á vista dinheiro/cheque\n",
    "[2] á vista no cartão\n",
    "[3] 2x no cartão\n",
    "[4] 3x ou mais no cartão''')\n",
    "val_produto = float(input(\"Valor das compras:R$\"))\n",
    "forma_pagamento = int(input(\"Escolha uma das opções:\"))\n",
    "\n",
    "val_din = 0.90 * val_produto \n",
    "val_cartão = 0.95 * val_produto\n",
    "val_ateduas = val_produto / 2\n",
    "val_tresmais = 1.20 * val_produto\n",
    "\n",
    "codigo = randint(1,10000)\n",
    "\n",
    "if val_produto >= 100:\n",
    "    print(\"\\nVocê ganhou frete grátis para sua próxima compra pelo site! Use o cupom exclusivo: {}{} e aproveite!\".format('UB',codigo))\n",
    "if forma_pagamento == 1:\n",
    "    print(\"\\nVocê recebeu 10% de desconto!\\nValor final = R${:.2f}\".format(val_din))\n",
    "elif forma_pagamento == 2:\n",
    "    print(\"\\nVocê recebeu 5% de desconto!\\nValor final = R${:.2f}\".format(val_cartão))\n",
    "elif forma_pagamento == 3:\n",
    "    print(\"\\nValor final = 2 X R${:.2f}\".format(val_ateduas))\n",
    "elif forma_pagamento ==4:\n",
    "    parcelas = int(input(\"Em quantas parcelas?\"))\n",
    "    print(\"\\nDevido as parcelas, você recebeu um total de 20% de juros sob o valor do produto.\\nValor final = {:.2f} ou seja, {} X R${:.2f} \".format(val_tresmais,parcelas,val_tresmais/parcelas))\n",
    "else:\n",
    "    print(\"OPÇÃO INVÁLIDA! TENTE NOVAMENTE\")\n"
   ]
  },
  {
   "cell_type": "markdown",
   "metadata": {},
   "source": [
    "Exercício Python 45: Crie um programa que faça o computador jogar Jokenpô com você."
   ]
  },
  {
   "cell_type": "code",
   "execution_count": 3,
   "metadata": {},
   "outputs": [
    {
     "name": "stdout",
     "output_type": "stream",
     "text": [
      "        ✊✋✌️\u001b[1;32m JOKENPÔ COM O PC✊✋✌️        \n",
      "\n",
      "Suas opções: \n",
      "[0]Pedra ⛰️\n",
      "[1]Papel 📄\n",
      "[2]Tesoura ✂️\n",
      "JO\n",
      "KEN\n",
      "PO\n",
      "¨¨¨¨¨¨¨¨¨¨¨¨¨¨¨¨¨¨¨¨¨¨¨¨¨¨¨\n",
      "O computador jogou Pedra\n",
      "O jogador jogou Pedra\n",
      "\n",
      "¨¨¨¨¨¨¨¨¨¨¨¨¨¨¨¨¨¨¨¨¨¨¨¨¨¨¨\n",
      "EMPATE!\n"
     ]
    }
   ],
   "source": [
    "from emoji import emojize \n",
    "from random import randint\n",
    "from time import sleep\n",
    "\n",
    "titulo =('{: ^48}'.format(emojize(\":raised_fist::raised_hand::victory_hand:\\033[1;32m JOKENPÔ COM O PC:raised_fist::raised_hand::victory_hand:\")))\n",
    "print(titulo)\n",
    "\n",
    "itens = ('Pedra', 'Papel', 'Tesoura')\n",
    "computador = randint(0,2)\n",
    "\n",
    "print(emojize('''\\nSuas opções: \n",
    "[0]Pedra :mountain:\n",
    "[1]Papel :page_facing_up:\n",
    "[2]Tesoura :scissors:'''))\n",
    "jogador = int(input(\"Qual a sua jogada??\"))\n",
    "print(\"JO\")\n",
    "sleep(1)\n",
    "print(\"KEN\")\n",
    "sleep(1)\n",
    "print(\"PO\")\n",
    "\n",
    "print('¨' * 27)\n",
    "print(\"O computador jogou {}\".format(itens[computador]))\n",
    "print(\"O jogador jogou {}\\n\".format(itens[jogador]))\n",
    "print('¨' * 27)\n",
    "\n",
    "if computador == 0: # computador jogou PEDRA\n",
    "    if jogador == 0:\n",
    "        print('EMPATE!')\n",
    "    elif jogador == 1:\n",
    "        print('Papel embrulha pedra, logo JOGADOR venceu!')\n",
    "    elif jogador == 2:\n",
    "        print('Pedra quebra tesoura, logo COMPUTADOR venceu!')\n",
    "    else:\n",
    "        print('JOGADA INVÁLIDA')\n",
    "if computador == 1: #computador jogou PAPEL\n",
    "    if jogador == 0:\n",
    "        print('Papel embrulha pedra, logo COMPUTADOR venceu!')\n",
    "    elif jogador == 1:\n",
    "        print('EMPATE!')\n",
    "    elif jogador == 2:\n",
    "        print('Tesoura corta papel, logo JOGADOR venceu!')\n",
    "    else:\n",
    "        print('JOGADA INVÁLIDA')\n",
    "if computador == 2: #computador jogou TESOURA\n",
    "    if jogador == 0:\n",
    "        print('Pedra quebra tesoura, logo JOGADOR venceu!')\n",
    "    elif jogador == 1:\n",
    "        print('Tesoura corta papel, logo COMPUTADOR venceu!')\n",
    "    elif jogador == 2:\n",
    "        print('EMPATE!')\n",
    "    else:\n",
    "        print('JOGADA INVÁLIDA')"
   ]
  }
 ],
 "metadata": {
  "kernelspec": {
   "display_name": "Python 3",
   "language": "python",
   "name": "python3"
  },
  "language_info": {
   "codemirror_mode": {
    "name": "ipython",
    "version": 3
   },
   "file_extension": ".py",
   "mimetype": "text/x-python",
   "name": "python",
   "nbconvert_exporter": "python",
   "pygments_lexer": "ipython3",
   "version": "3.12.0"
  }
 },
 "nbformat": 4,
 "nbformat_minor": 2
}
