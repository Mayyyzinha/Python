{
 "cells": [
  {
   "cell_type": "markdown",
   "metadata": {},
   "source": [
    "## Manipulando Texto"
   ]
  },
  {
   "cell_type": "markdown",
   "metadata": {},
   "source": [
    "Exercício 22: Crie um programa que leia o nome completo de uma pessoa e mostre:\n",
    "\n",
    "– O nome com todas as letras maiúsculas e minúsculas.\n",
    "\n",
    "– Quantas letras ao todo (sem considerar espaços).\n",
    "\n",
    "– Quantas letras tem o primeiro nome."
   ]
  },
  {
   "cell_type": "code",
   "execution_count": 14,
   "metadata": {},
   "outputs": [
    {
     "name": "stdout",
     "output_type": "stream",
     "text": [
      "Nome em maiúsculas: MAYARA BERTIN VACANI ERVATTI\n",
      "Nome em minúsculas: mayara bertin vacani ervatti\n",
      "Número de letras: 25\n",
      "Número de letras do primeiro nome: 6\n",
      "O nome é Mayara e tem 6 letras.\n"
     ]
    }
   ],
   "source": [
    "#Ex22\n",
    "\n",
    "nome = input('Digite o nome completo:').strip()\n",
    "print('Nome em maiúsculas: {}'.format(nome.upper()))\n",
    "print('Nome em minúsculas: {}'.format(nome.lower()))\n",
    "print('Número de letras: {}'.format(len(nome)-nome.count(' ')))\n",
    "#maneira 1\n",
    "print('Número de letras do primeiro nome: {}'.format(nome.find(' ')))\n",
    "#maneira 2\n",
    "separa = nome.split()\n",
    "#atribui a uma variável pois listas são imutáveis!\n",
    "print('O nome é {} e tem {} letras.'.format(separa[0], len(separa[0])))"
   ]
  },
  {
   "cell_type": "markdown",
   "metadata": {},
   "source": [
    "Exercício Python 23: Faça um programa que leia um número de 0 a 9999 e mostre na tela cada um dos dígitos separados."
   ]
  },
  {
   "cell_type": "code",
   "execution_count": 26,
   "metadata": {},
   "outputs": [
    {
     "name": "stdout",
     "output_type": "stream",
     "text": [
      "Analisando o número 7894:\n",
      "unidade = 4\n",
      "dezena =90\n",
      "centena = 800\n",
      "milhar = 7000\n"
     ]
    }
   ],
   "source": [
    "#Ex23\n",
    "\n",
    "num = int(input('Informe o número desejado:'))\n",
    "print('Analisando o número {}:'.format(num))\n",
    "u = num //1 % 10\n",
    "d = num //10 % 10\n",
    "c = num //100 % 10\n",
    "m = num //1000 % 10\n",
    "print('unidade = {}'.format(u))\n",
    "print('dezena ={}0'.format(d))\n",
    "print('centena = {}00'.format(c))\n",
    "print('milhar = {}000'.format(m))\n"
   ]
  },
  {
   "cell_type": "markdown",
   "metadata": {},
   "source": [
    "Exercício Python 24: Crie um programa que leia o nome de uma cidade diga se ela começa ou não com o nome “SANTO”."
   ]
  },
  {
   "cell_type": "code",
   "execution_count": 9,
   "metadata": {},
   "outputs": [
    {
     "name": "stdout",
     "output_type": "stream",
     "text": [
      "True\n"
     ]
    }
   ],
   "source": [
    "#Ex24\n",
    "\n",
    "cidade = input('Insira o nome da cidade:').strip()\n",
    "print(cidade[:5].upper() == 'SANTO')"
   ]
  },
  {
   "cell_type": "markdown",
   "metadata": {},
   "source": [
    "Exercício Python 25: Crie um programa que leia o nome de uma pessoa e diga se ela tem “SILVA” no nome."
   ]
  },
  {
   "cell_type": "code",
   "execution_count": 12,
   "metadata": {},
   "outputs": [
    {
     "name": "stdout",
     "output_type": "stream",
     "text": [
      "O seu nome tem sobrenome Silva? True\n"
     ]
    },
    {
     "data": {
      "text/plain": [
       "6"
      ]
     },
     "execution_count": 12,
     "metadata": {},
     "output_type": "execute_result"
    }
   ],
   "source": [
    "#Ex25\n",
    "\n",
    "nome = input('Digite o seu nome completo:').strip()\n",
    "print('O seu nome tem sobrenome Silva? {}'.format('silva' in nome.lower()))"
   ]
  },
  {
   "cell_type": "markdown",
   "metadata": {},
   "source": [
    "Exercício Python 26: Faça um programa que leia uma frase pelo teclado e mostre quantas vezes aparece a letra “A”, em que posição ela aparece a primeira vez e em que posição ela aparece a última vez."
   ]
  },
  {
   "cell_type": "code",
   "execution_count": 7,
   "metadata": {},
   "outputs": [
    {
     "name": "stdout",
     "output_type": "stream",
     "text": [
      "A letra 'A' apareceu 3 vezes\n",
      "A primeira letra 'A' apareceu na posição 2\n",
      "A última letra 'A' apareceu na posição 6\n"
     ]
    }
   ],
   "source": [
    "#Ex26\n",
    "\n",
    "palavra = input('Escreva algo:').lower().strip()\n",
    "print(\"A letra 'A' apareceu {} vezes\".format(palavra.count('a')))\n",
    "print(\"A primeira letra 'A' apareceu na posição {}\".format(palavra.find('a') + 1))\n",
    "print(\"A última letra 'A' apareceu na posição {}\".format(palavra.rfind('a') + 1))\n",
    "\n"
   ]
  },
  {
   "cell_type": "markdown",
   "metadata": {},
   "source": [
    "Exercício Python 27: Faça um programa que leia o nome completo de uma pessoa, mostrando em seguida o primeiro e o último nome separadamente."
   ]
  },
  {
   "cell_type": "code",
   "execution_count": 18,
   "metadata": {},
   "outputs": [
    {
     "name": "stdout",
     "output_type": "stream",
     "text": [
      "Seu primeiro nome é Mayara\n",
      "Seu último nome é Ervatti\n"
     ]
    }
   ],
   "source": [
    "#Ex27\n",
    "\n",
    "nome = input('Digite o seu nome completo:').strip().title()\n",
    "separa = nome.split()\n",
    "print('Seu primeiro nome é {}'.format(separa[0]))\n",
    "print('Seu último nome é {}'.format(separa[len(separa)-1]))"
   ]
  }
 ],
 "metadata": {
  "kernelspec": {
   "display_name": "Python 3",
   "language": "python",
   "name": "python3"
  },
  "language_info": {
   "codemirror_mode": {
    "name": "ipython",
    "version": 3
   },
   "file_extension": ".py",
   "mimetype": "text/x-python",
   "name": "python",
   "nbconvert_exporter": "python",
   "pygments_lexer": "ipython3",
   "version": "3.12.0"
  }
 },
 "nbformat": 4,
 "nbformat_minor": 2
}
