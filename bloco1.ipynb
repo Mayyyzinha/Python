{
 "cells": [
  {
   "cell_type": "markdown",
   "metadata": {},
   "source": [
    "Atividades Básicas"
   ]
  },
  {
   "cell_type": "code",
   "execution_count": 1,
   "metadata": {},
   "outputs": [
    {
     "name": "stdout",
     "output_type": "stream",
     "text": [
      "Hello, World!\n"
     ]
    }
   ],
   "source": [
    "#Ex1\n",
    "print('Hello, World!')"
   ]
  },
  {
   "cell_type": "code",
   "execution_count": 10,
   "metadata": {},
   "outputs": [
    {
     "name": "stdout",
     "output_type": "stream",
     "text": [
      "É um prazer te conhecer, Mayara!\n"
     ]
    }
   ],
   "source": [
    "#Ex2\n",
    "msg = input('Qual o seu nome, querido(a)?')\n",
    "print('É um prazer te conhecer, {}!'.format(msg))"
   ]
  },
  {
   "cell_type": "markdown",
   "metadata": {},
   "source": [
    "Tipos Primitivos e Saída de Dados"
   ]
  },
  {
   "cell_type": "code",
   "execution_count": 9,
   "metadata": {},
   "outputs": [
    {
     "name": "stdout",
     "output_type": "stream",
     "text": [
      "A soma entre 2 e 2 é 4\n"
     ]
    }
   ],
   "source": [
    "#Ex3\n",
    "n1 = int(input('Digite o primeiro número:'))\n",
    "n2 = int(input('Digite o segundo número:'))\n",
    "soma = n1 + n2 \n",
    "print('A soma entre {} e {} é {}' .format(n1, n2, soma))\n",
    "\n"
   ]
  },
  {
   "cell_type": "code",
   "execution_count": 14,
   "metadata": {},
   "outputs": [
    {
     "name": "stdout",
     "output_type": "stream",
     "text": [
      "False\n",
      "True\n"
     ]
    }
   ],
   "source": [
    "n = input('Digite algo:')\n",
    "print(n.isnumeric())\n",
    "\n",
    "m = input('Digite algo:')\n",
    "print(m.isalnum())"
   ]
  },
  {
   "cell_type": "markdown",
   "metadata": {},
   "source": [
    "Teste dos tipos de dados"
   ]
  },
  {
   "cell_type": "code",
   "execution_count": 7,
   "metadata": {},
   "outputs": [
    {
     "name": "stdout",
     "output_type": "stream",
     "text": [
      "O tipo primitivo desse valor é <class 'str'>\n",
      "Ele possui False espaço.\n",
      "É um número? False\n",
      "É alfabético? True\n",
      "É alfanumérico? True\n",
      "Está em maiúsculas? False\n",
      "Está em minúsculas? False\n",
      "Está capitalizada? True\n"
     ]
    }
   ],
   "source": [
    "#Ex4\n",
    "msg = input('Digite algo aí, parça')\n",
    "print('O tipo primitivo desse valor é', type(msg))\n",
    "print('Ele possui {} espaço.' .format(msg.isspace()))\n",
    "print('É um número?', msg.isnumeric())\n",
    "print('É alfabético?', msg.isalpha())\n",
    "print('É alfanumérico?', msg.isalnum())\n",
    "print('Está em maiúsculas?', msg.isupper())\n",
    "print('Está em minúsculas?', msg.islower())\n",
    "print('Está capitalizada?', msg.istitle())\n"
   ]
  },
  {
   "cell_type": "markdown",
   "metadata": {},
   "source": [
    "Operadores Aritméticos "
   ]
  },
  {
   "cell_type": "code",
   "execution_count": 14,
   "metadata": {},
   "outputs": [
    {
     "name": "stdout",
     "output_type": "stream",
     "text": [
      "Antecessor: 4  Sucessor: 6\n"
     ]
    }
   ],
   "source": [
    "#Ex5\n",
    "n = int(input('Digite um número:'))\n",
    "print('Antecessor: {}'.format(n-1), end=\"  \")\n",
    "print('Sucessor: {}'.format(n+1))\n"
   ]
  },
  {
   "cell_type": "code",
   "execution_count": 22,
   "metadata": {},
   "outputs": [
    {
     "name": "stdout",
     "output_type": "stream",
     "text": [
      "Dobro = 16 \n",
      "\n",
      "Raíz quadrada = 2.83\n"
     ]
    }
   ],
   "source": [
    "#Ex6\n",
    "n = int(input('Digite um número:'))\n",
    "print('Dobro = {}'.format(n*2), '\\n')\n",
    "print('Raíz quadrada = {:.2f}'.format(n**(1/2)))"
   ]
  },
  {
   "cell_type": "code",
   "execution_count": 27,
   "metadata": {},
   "outputs": [
    {
     "name": "stdout",
     "output_type": "stream",
     "text": [
      "A média do aluno(a) Mayara  é 9.8\n"
     ]
    }
   ],
   "source": [
    "#Ex7\n",
    "nome = input('Nome do aluno:')\n",
    "nota1 = float(input('Insira a primeira nota:'))\n",
    "nota2 = float(input('Insira a segunda nota:'))\n",
    "\n",
    "media = (nota1 + nota2)/2\n",
    "\n",
    "print('A média do aluno(a) {} é {:.1f}' .format(nome,media))"
   ]
  },
  {
   "cell_type": "code",
   "execution_count": 35,
   "metadata": {},
   "outputs": [
    {
     "name": "stdout",
     "output_type": "stream",
     "text": [
      "A medida de 3.0m corresponde a\n",
      "0.003km\n",
      "0.03hm\n",
      "0.3dam\n",
      "30.0dm\n",
      "300.0cm\n",
      "3000.0mm\n"
     ]
    }
   ],
   "source": [
    "#ex8\n",
    "medida = float(input('Insira uma medida em metros:'))\n",
    "print('A medida de {}m corresponde a' .format(medida))\n",
    "print('{}km' .format(medida/1000))\n",
    "print('{}hm' .format(medida/100))\n",
    "print('{}dam' .format(medida/10))\n",
    "print('{}dm' .format(medida/0.1))\n",
    "print('{}cm' .format(medida/0.01))\n",
    "print('{}mm' .format(medida/0.001))\n",
    "      "
   ]
  },
  {
   "cell_type": "code",
   "execution_count": 41,
   "metadata": {},
   "outputs": [
    {
     "name": "stdout",
     "output_type": "stream",
     "text": [
      "5 x 0 = 0\n",
      "5 x 1 = 5\n",
      "5 x 2 = 10\n",
      "5 x 3 = 15\n",
      "5 x 4 = 20\n",
      "5 x 5 = 25\n",
      "5 x 6 = 30\n",
      "5 x 7 = 35\n",
      "5 x 8 = 40\n",
      "5 x 9 = 45\n",
      "5 x 10 = 50\n"
     ]
    }
   ],
   "source": [
    "#ex9\n",
    "n = int(input('Digite um número para calcular a tabuada:'))\n",
    "\n",
    "for i in range(11):\n",
    "    print('{} x {} = {}' .format(n,i,(n*i)))\n",
    "\n",
    "#Não confunda a estrutura do for em Python com C \n",
    "#Eu me recusei a digitar aquelas trocentas linhas sem estrutura de repetição. Aprendi essa.\n"
   ]
  },
  {
   "cell_type": "code",
   "execution_count": 23,
   "metadata": {},
   "outputs": [
    {
     "name": "stdout",
     "output_type": "stream",
     "text": [
      "       CONVERSOR DE REAL EM DÓLAR       \n",
      "Observação: Em 2023, consideramos US$1,00=R$3,27\n",
      "====================\n",
      "Com base na cotação do dólar atual, você tem 3.67 dólares.=====================\n"
     ]
    }
   ],
   "source": [
    "#ex10\n",
    "print(\"{: ^40}\".format(\"CONVERSOR DE REAL EM DÓLAR\"))\n",
    "print(\"Observação: Em 2023, consideramos US$1,00=R$3,27\")\n",
    "\n",
    "real = float(input('Quanto de dinheiro você tem na carteira? R$'))\n",
    "\n",
    "convertido = real/3.27\n",
    "\n",
    "print(\"{:=^100}\" .format('\\nCom base na cotação do dólar atual, você tem {:.2f} dólares.' .format(convertido)))"
   ]
  },
  {
   "cell_type": "code",
   "execution_count": 11,
   "metadata": {},
   "outputs": [
    {
     "name": "stdout",
     "output_type": "stream",
     "text": [
      "        PINTURA DE PAREDE         \n",
      "\n",
      "Sua parede possui 73.32m2 de área.\n",
      "\n",
      "Levando-se em consideração que 1 litro de tinta pinta uma área de 2 metros quadrados,\n",
      "Conclue-se que com 7.8m de largura e 9.4m de altura serão necessários 36.66 litros.\n"
     ]
    }
   ],
   "source": [
    "#ex11\n",
    "print('{: ^34}' .format(\"PINTURA DE PAREDE\"))\n",
    "largura = float(input('Insira a largura:'))\n",
    "altura = float(input('Insira a altura:'))\n",
    "\n",
    "area= largura*altura\n",
    "qtdtinta = area/2\n",
    "\n",
    "print(\"\\nSua parede possui {:.2f}m2 de área.\\n\" .format(area))\n",
    "print(\"Levando-se em consideração que 1 litro de tinta pinta uma área de 2 metros quadrados,\")\n",
    "print(\"Conclue-se que com {}m de largura e {}m de altura serão necessários {:.2f} litros.\" .format(largura,altura,qtdtinta))"
   ]
  },
  {
   "cell_type": "code",
   "execution_count": 7,
   "metadata": {},
   "outputs": [
    {
     "name": "stdout",
     "output_type": "stream",
     "text": [
      "            Calculadora de Descontos            \n",
      "Desconto de 14.0% = R$ 14.00\n",
      "Novo preço = R$56.00\n"
     ]
    }
   ],
   "source": [
    "#ex12\n",
    "\n",
    "#Fazendo a contagem dos caracteres para centralizar decentemente\n",
    "frase = \"Calculadora de Descontos\"\n",
    "len(frase)\n",
    "\n",
    "print('{: ^48}' .format(\"Calculadora de Descontos\"))\n",
    "preco = float(input('Insira o valor do produto:R$'))\n",
    "desconto = float(input('Agora insira a percentagem do desconto:'))\n",
    "\n",
    "valDesc = (preco*desconto)/100\n",
    "novoVal = preco - valDesc\n",
    "\n",
    "print(\"Desconto de {}% = R$ {:.2f}\" .format(valDesc, valDesc))\n",
    "print(\"Novo preço = R${:.2f}\" .format(novoVal))"
   ]
  },
  {
   "cell_type": "code",
   "execution_count": 6,
   "metadata": {},
   "outputs": [
    {
     "name": "stdout",
     "output_type": "stream",
     "text": [
      "       Calculadora de aumento de salário        \n",
      "Aumento de 15.0% = 231.90\n",
      "Novo salário = 1777.90\n"
     ]
    }
   ],
   "source": [
    "#ex13\n",
    "\n",
    "#Contagem dos caracteres da frase \n",
    "len(\"Calculadora de aumento de salário\")\n",
    "\n",
    "print('{: ^48}' .format('Calculadora de aumento de salário') )\n",
    "\n",
    "sal = float(input('Insira o salário do funcionário:R$'))\n",
    "aumento = float(input('Insira o aumento:'))\n",
    "\n",
    "valAum = (sal*aumento)/100\n",
    "novoSal= sal + valAum\n",
    "\n",
    "print('Aumento de {}% = {:.2f}' .format(aumento, valAum))\n",
    "print('Novo salário = {:.2f}' .format(novoSal))"
   ]
  },
  {
   "cell_type": "code",
   "execution_count": 4,
   "metadata": {},
   "outputs": [
    {
     "name": "stdout",
     "output_type": "stream",
     "text": [
      "Juros em compras parceladas\n",
      "O total de juros foi de R$1.00\n",
      "O valor a ser pago é R$1005.00\n"
     ]
    }
   ],
   "source": [
    "#Extra\n",
    "\n",
    "print('Juros em compras parceladas')\n",
    "\n",
    "val = float(input('Digite o valor total da compra:'))\n",
    "parcelas = int(input('Digite em quantas parcelas serão divididas o valor: (Juros de 0.5% em cada parcela)'))\n",
    "\n",
    "juros = (val/parcelas)*(0.5/100)\n",
    "novoVal = (juros*parcelas)+val\n",
    "\n",
    "print('O total de juros foi de R${:.2f}' .format(juros))\n",
    "print('O valor a ser pago é R${:.2f}' .format(novoVal))            "
   ]
  },
  {
   "cell_type": "code",
   "execution_count": 8,
   "metadata": {},
   "outputs": [
    {
     "name": "stdout",
     "output_type": "stream",
     "text": [
      "            Conversor de temperatura            \n",
      "A temperatura de 40.0°C corresponde a 104.0F\n"
     ]
    }
   ],
   "source": [
    "#ex14\n",
    "len(\"Conversor de temperatura\")\n",
    "\n",
    "print('{: ^48}' .format(\"Conversor de temperatura\"))\n",
    "\n",
    "c = float(input(\"Insira a temperatura em graus Celsius:\"))\n",
    "\n",
    "f= (9*c + 160)/5\n",
    "\n",
    "print(\"A temperatura de {}°C corresponde a {}F\" .format(c,f))\n"
   ]
  },
  {
   "cell_type": "code",
   "execution_count": 10,
   "metadata": {},
   "outputs": [
    {
     "name": "stdout",
     "output_type": "stream",
     "text": [
      "Aluguel de Carros\n",
      "Preço final = R$255.00\n"
     ]
    }
   ],
   "source": [
    "#ex15\n",
    "print(\"Aluguel de Carros\")\n",
    "qtdKM = float(input(\"Qual a quantidade de quilômetros foi percorrida?\"))\n",
    "qtdDIAS= int(input(\"Qual foi a quantidade de dias que o carro foi alugado?\"))\n",
    "\n",
    "preço = (60*qtdDIAS) + (0.15*qtdKM)\n",
    "\n",
    "print(\"Preço final = R${:.2f}\" .format(preço))"
   ]
  }
 ],
 "metadata": {
  "kernelspec": {
   "display_name": "Python 3",
   "language": "python",
   "name": "python3"
  },
  "language_info": {
   "codemirror_mode": {
    "name": "ipython",
    "version": 3
   },
   "file_extension": ".py",
   "mimetype": "text/x-python",
   "name": "python",
   "nbconvert_exporter": "python",
   "pygments_lexer": "ipython3",
   "version": "3.12.0"
  }
 },
 "nbformat": 4,
 "nbformat_minor": 2
}
