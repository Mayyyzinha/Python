{
 "cells": [
  {
   "cell_type": "markdown",
   "metadata": {},
   "source": [
    "Este programaé bemm simples e tem como objetivo fazer o cálculo do Índice de Massa Corporal (IMC). Eu tenho a intenção de balancear minha alimentação então vou aproveitar para praticar Python e meu uso do Git. ^^"
   ]
  },
  {
   "cell_type": "code",
   "execution_count": 3,
   "metadata": {},
   "outputs": [
    {
     "data": {
      "text/plain": [
       "17"
      ]
     },
     "execution_count": 3,
     "metadata": {},
     "output_type": "execute_result"
    }
   ],
   "source": [
    "#Contagem dos caracteres para centralizar \n",
    "\n",
    "titulo = 'Calculador de IMC'\n",
    "len(titulo)"
   ]
  },
  {
   "cell_type": "code",
   "execution_count": 10,
   "metadata": {},
   "outputs": [
    {
     "name": "stdout",
     "output_type": "stream",
     "text": [
      "========Calculador de IMC=========\n",
      "O seu imc é de 21.27 kg/m2\n"
     ]
    }
   ],
   "source": [
    "print('{:=^34}' .format(titulo))\n",
    "\n",
    "massa = float(input(\"Digite o valor da sua massa corporal em kg:\"))\n",
    "altura = float(input(\"digite a sua altura em metros:\"))\n",
    "\n",
    "imc = massa/(altura*altura) \n",
    "\n",
    "print('O seu imc é de {:.2f} kg/m2' .format(imc))   "
   ]
  }
 ],
 "metadata": {
  "kernelspec": {
   "display_name": "Python 3",
   "language": "python",
   "name": "python3"
  },
  "language_info": {
   "codemirror_mode": {
    "name": "ipython",
    "version": 3
   },
   "file_extension": ".py",
   "mimetype": "text/x-python",
   "name": "python",
   "nbconvert_exporter": "python",
   "pygments_lexer": "ipython3",
   "version": "3.12.0"
  }
 },
 "nbformat": 4,
 "nbformat_minor": 2
}
